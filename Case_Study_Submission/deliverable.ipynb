{
 "cells": [
  {
   "cell_type": "markdown",
   "metadata": {},
   "source": [
    "<h1> Case Study Submission </h1>\n",
    "<h4> Course: 040669, Simulation 1</h4>\n",
    "<h4> Date: 25.11.2024 </h4>\n",
    "<h4> Name: Jakob Lindstrøm </h4>\n",
    "<br>\n",
    "<h2> i) Solution description </h2>\n",
    "<p> I have solved case 2: Doctor's office. The answers to the subquestions of the case will be solved using programming languages. The answers will be written in this notebook, but some of the answers might be derived using the following repo: <a href=\"https://github.com/DataJakob/040669-Simulations-1-and-2/tree/main/RD_que_system\"> DataJakob@github</a>.</p>\n",
    "<br>\n",
    "\n",
    "<h2> i) Reproduce the solution </h2>\n",
    "<p> In IDE terminal -> git clone repo </p>\n",
    "<p> Navigate to -> deliverable.ipynbd </p>\n",
    "<p> Choose interpreter -> Julia  </p>\n",
    "<p> Press ->  Run all </p>\n",
    "<br>\n",
    "\n",
    "<h2> iii)  General Solution Comments </h2>\n",
    "<p> For this task I have choosen to use both an analytical and numerical approach to retrieve the key parameters for the first subtask.  </p>"
   ]
  },
  {
   "cell_type": "code",
   "execution_count": null,
   "metadata": {},
   "outputs": [
    {
     "data": {
      "text/plain": [
       "calculate_MMS (generic function with 1 method)"
      ]
     },
     "metadata": {},
     "output_type": "display_data"
    }
   ],
   "source": [
    "include(\"../Formulas/MM.jl\")\n",
    "include(\"../RD_que_system/src/00_arriver.jl\")\n",
    "include(\"../RD_que_system/src/01_server.jl\")\n",
    "include(\"../RD_que_system/src/02_run_queue.jl\")\n",
    "include(\"../RD_que_system/src/03_calculate_parameters.jl\")"
   ]
  },
  {
   "cell_type": "markdown",
   "metadata": {},
   "source": [
    "<h2> Task 2a </h2>\n",
    "<p> To solve this task I leverage a class and methods from the the file MM.jl. Doing this allows me to calculate the key parameters for both systems. </p>"
   ]
  },
  {
   "cell_type": "code",
   "execution_count": null,
   "metadata": {},
   "outputs": [],
   "source": [
    "n_lines = 1               # number of lines\n",
    "n_time = 8.0 *5*4          # 8h * 5d * 4.2w *12m\n",
    "n_arr_hour = 4.0          # arrivals per hour\n",
    "n_ser_hour = 5.0          # servie per hour\n",
    "n_servers = 1             # Number of servers\n",
    "n_packages_queue_overload = 10000   # When to switch queue line\n",
    "\n",
    "wait_cum_MM1 = []\n",
    "length_cum_MM1 =  []\n",
    "for i in 1:1000\n",
    "    randomness = i\n",
    "\n",
    "    a,b,c = calculate_ia_and_s(n_lines, n_time, n_arr_hour, n_ser_hour, randomness) # arr | cum_arr | ser\n",
    "    my_server = ServerBase(n_servers, n_packages_queue_overload)\n",
    "    \n",
    "    Data_to_json(a, c, b)\n",
    "    Run_the_queue(my_server, 100000.0)\n",
    "    wait_time, queue_length = Calculate_key_parameters(Int(n_time*n_arr_hour))\n",
    "    push!(wait_cum_MM1, wait_time[1])\n",
    "    push!(length_cum_MM1, queue_length[1])\n",
    "end\n",
    "\n",
    "\n",
    "MM1 = queueKeyParameters(n_arr_hour, n_ser_hour, 0)\n",
    "MM1 = calcuclate_MM1(MM1)"
   ]
  },
  {
   "cell_type": "code",
   "execution_count": 221,
   "metadata": {},
   "outputs": [
    {
     "name": "stdout",
     "output_type": "stream",
     "text": [
      "Average length in system for MM1: 4.0\n",
      "Average time in system for MM1: 1.0\n",
      "\n",
      "\tCompare parameters for Lq and Wq using analytical and simulation approach\n",
      "Analytical:\n",
      "Mean wait time: 0.8\n",
      "Mean queue length: 3.2\n",
      "\n",
      "Simulation:\n",
      "Mean wait time: 0.76\n",
      "Mean queue length: 3.06\n"
     ]
    }
   ],
   "source": [
    "println(\"Average length in system for MM1: \", MM1.L)\n",
    "println(\"Average time in system for MM1: \", MM1.W)\n",
    "println(\"\\n\\tCompare parameters for Lq and Wq using analytical and simulation approach\")\n",
    "println(\"Analytical:\")\n",
    "println(\"Mean wait time: \",MM1.Wq)\n",
    "println(\"Mean queue length: \",MM1.Lq)\n",
    "println(\"\\nSimulation:\")\n",
    "println(\"Mean wait time: \",round(mean(wait_cum_MM1), digits=2))\n",
    "println(\"Mean queue length: \",round(mean(length_cum_MM1), digits=2))"
   ]
  },
  {
   "cell_type": "code",
   "execution_count": 223,
   "metadata": {},
   "outputs": [
    {
     "name": "stdout",
     "output_type": "stream",
     "text": [
      "\n",
      "Average length in system for MM2: 2.2130268199233716\n",
      "Average time in system for MM2: 0.5532567049808429\n"
     ]
    }
   ],
   "source": [
    "MMS = queueKeyParameters(4.0, 2.5, 0)\n",
    "MMS = calculate_MMS(MMS, 2)\n",
    "\n",
    "\n",
    "println(\"\\nAverage length in system for MM2: \", MMS.L)\n",
    "println(\"Average time in system for MM2: \", MMS.W)"
   ]
  },
  {
   "cell_type": "code",
   "execution_count": 224,
   "metadata": {},
   "outputs": [
    {
     "name": "stdout",
     "output_type": "stream",
     "text": [
      "Analytical:\n",
      "Mean wait time: 0.1532567049808429\n",
      "Mean queue length: 0.6130268199233716\n",
      "\n",
      "Simulation:\n",
      "Mean wait time: 0.65\n",
      "Mean queue length: 2.58\n"
     ]
    }
   ],
   "source": [
    "println(\"Analytical:\")\n",
    "println(\"Mean wait time: \",MMS.Wq)\n",
    "println(\"Mean queue length: \",MMS.Lq)\n",
    "println(\"\\nSimulation:\")\n",
    "println(\"Mean wait time: \",round(mean(alfa), digits=2))\n",
    "println(\"Mean queue length: \",round(mean(bravo), digits=2))"
   ]
  },
  {
   "cell_type": "markdown",
   "metadata": {},
   "source": [
    "<b> Comments: </b>\n",
    "<p> Both of the systems have the same lambda and mu. The MM2 system that can handle two customers simultaneously and has a significantly higher queue lengths and waiting times in the system compared to the MM1 system. </p>\n",
    "<br>\n",
    "<p> I believe this difference is a result of longer processing times for the servers. The  servers are twice as slow compared to the MM1 server, but there are twice as many servers in contrast. </p>\n",
    "<br>\n",
    "\n",
    "<h2> Task 2b </h2>\n",
    "<p> In order to make the recommendation for Caroline's new administrative system I use the cost and the key parameters from the respective queues."
   ]
  },
  {
   "cell_type": "code",
   "execution_count": 3,
   "metadata": {},
   "outputs": [
    {
     "name": "stdout",
     "output_type": "stream",
     "text": [
      "Hourly costs of MM1: 14.8\n",
      "Hourly costs of MM2: 13.2\n"
     ]
    }
   ],
   "source": [
    "println(\"Hourly costs of MM1: \", 14.8)\n",
    "println(\"Hourly costs of MM2: \", 13.2)"
   ]
  },
  {
   "cell_type": "markdown",
   "metadata": {},
   "source": [
    "<p> I would recommend for Caroline to choose the alternative \"Healthy in No Time\"; the MM2 system. The reason for this is that the system has a lower costs per hour, even though the average length and average waiting time in the system is longer. </p>\n",
    "<br>\n",
    "<p> From a business point of perspective I would focus on revenues and costs, and therefore, deprioritize the customers's experience. This recommendation stands, until other information reveals itself.</p>"
   ]
  },
  {
   "cell_type": "markdown",
   "metadata": {},
   "source": [
    "<h2> Task 2c - i </h2>\n",
    "<p> Given the new information about the fine issued from the health insurance of the city, I need to calculate the costs for having patitents in line. </p>\n",
    "<br>\n",
    "<p> In order to solve this task I would calculate the amount of minutes each customer must wait during an hour multiply that with the average number of customers in a line and then multiplied that with the costs of having customers in line. "
   ]
  },
  {
   "cell_type": "code",
   "execution_count": 4,
   "metadata": {},
   "outputs": [
    {
     "name": "stdout",
     "output_type": "stream",
     "text": [
      "Cost for MM2: 775.0\n"
     ]
    }
   ],
   "source": [
    "println(\"Cost for MM2: \",round(MMS.Wq*60*MMS.Lq*3.45))"
   ]
  },
  {
   "cell_type": "markdown",
   "metadata": {},
   "source": [
    "<p> The hourly cost of the new adminsitrative system, given the administrative cost and the fines are 775+13.2 = 788.2. </p>¨\n",
    "<br>\n",
    "<h3> 2c - ii, Alternative recommendation </h3>\n",
    "<p> Based on these results I would do the calculations for the second alternative and might reevaluate my  recommendation. Another recommendation I could propose to Caroline is to implement a finite queue. This would probably reduce here probability of having max a full queue at all times, but it would proabbly significantly lower her costs for having customers in queue. "
   ]
  },
  {
   "cell_type": "code",
   "execution_count": 5,
   "metadata": {},
   "outputs": [
    {
     "name": "stdout",
     "output_type": "stream",
     "text": [
      "Cost for MM1: 530.0\n"
     ]
    }
   ],
   "source": [
    "println(\"Cost for MM1: \",round(MM1.Wq*60*MM1.Lq*3.45))"
   ]
  },
  {
   "cell_type": "markdown",
   "metadata": {},
   "source": [
    "<p> The second alternative, the MM1 seems to be a lot better in terms of costs saved, because the costs are significantly lower. "
   ]
  },
  {
   "cell_type": "code",
   "execution_count": 6,
   "metadata": {},
   "outputs": [
    {
     "data": {
      "text/plain": [
       "Calculate_key_parameters (generic function with 1 method)"
      ]
     },
     "metadata": {},
     "output_type": "display_data"
    }
   ],
   "source": [
    "include(\"../RD_que_system/src/00_arriver.jl\")\n",
    "include(\"../RD_que_system/src/01_server.jl\")\n",
    "include(\"../RD_que_system/src/02_run_queue.jl\")\n",
    "include(\"../RD_que_system/src/03_calculate_parameters.jl\")"
   ]
  },
  {
   "cell_type": "code",
   "execution_count": 7,
   "metadata": {},
   "outputs": [],
   "source": [
    "using Distributions"
   ]
  },
  {
   "cell_type": "code",
   "execution_count": 185,
   "metadata": {},
   "outputs": [
    {
     "data": {
      "text/plain": [
       "calculate_ia_and_s (generic function with 1 method)"
      ]
     },
     "metadata": {},
     "output_type": "display_data"
    }
   ],
   "source": [
    "function calculate_ia_and_s(\n",
    "    n_line::Int64,\n",
    "    n_time::Float64,\n",
    "    n_arr_hour::Float64,\n",
    "    n_ser_hour::Float64,\n",
    "    randomness::Int64,\n",
    "    )\n",
    "\n",
    "    # n_arr_rate = n_arr_hour/60\n",
    "    arrival =  Vector{Vector{Tuple{String, Float64}}}()\n",
    "    cum_arrival = Vector{Vector{Tuple{String, Float64}}}()\n",
    "    service = Vector{Vector{Tuple{String, Float64}}}()\n",
    "\n",
    "    for i in 1:n_line\n",
    "        Random.seed!(randomness+i)\n",
    "        single_arrival = rand(Exponential(1/n_arr_hour), Int(n_time*n_arr_hour))\n",
    "        single_cum_arrival = cumsum(single_arrival)\n",
    "        single_service = rand(Exponential(1/n_ser_hour), Int(n_time*n_arr_hour))\n",
    "\n",
    "        single_arrival_with_ids = [\n",
    "            (string(Char('a' + i - 1)) * string(j), single_arrival[j]) for j in 1:length(single_arrival)\n",
    "        ]\n",
    "\n",
    "        # Create DataEntry for cumulative arrival times with unique IDs\n",
    "        single_cum_arrival_with_ids = [\n",
    "            (string(Char('a' + i - 1)) * string(j), single_cum_arrival[j]) for j in 1:length(single_cum_arrival)\n",
    "        ]\n",
    "\n",
    "        # Create DataEntry for service times with unique IDs\n",
    "        single_service_with_ids = [\n",
    "            (string(Char('a' + i - 1)) * string(j), single_service[j]) for j in 1:length(single_service)\n",
    "        ]\n",
    "\n",
    "        # Store these in the respective vectors\n",
    "        push!(arrival, single_arrival_with_ids)\n",
    "        push!(cum_arrival, single_cum_arrival_with_ids)\n",
    "        push!(service, single_service_with_ids)\n",
    "    end\n",
    "\n",
    "    return [arrival, cum_arrival, service]\n",
    "end"
   ]
  },
  {
   "cell_type": "code",
   "execution_count": null,
   "metadata": {},
   "outputs": [],
   "source": [
    "n_lines = 1               # number of lines\n",
    "n_time = 8.0 *5*4          # 8h * 5d * 4.2w *12m\n",
    "n_arr_hour = 4.0          # arrivals per hour\n",
    "n_ser_hour = 5.0          # servie per hour\n",
    "n_servers = 1             # Number of servers\n",
    "n_packages_queue_overload = 10000   # When to switch queue line\n",
    "\n",
    "wait_cum_MM1 = []\n",
    "length_cum_MM1 =  []\n",
    "for i in 1:1000\n",
    "    randomness = i\n",
    "\n",
    "    a,b,c = calculate_ia_and_s(n_lines, n_time, n_arr_hour, n_ser_hour, randomness) # arr | cum_arr | ser\n",
    "    my_server = ServerBase(n_servers, n_packages_queue_overload)\n",
    "    \n",
    "    Data_to_json(a, c, b)\n",
    "    Run_the_queue(my_server, 100000.0)\n",
    "    wait_time, queue_length = Calculate_key_parameters(Int(n_time*n_arr_hour))\n",
    "    push!(wait_cum_MM1, wait_time[1])\n",
    "    push!(length_cum_MM1, queue_length[1])\n",
    "end"
   ]
  },
  {
   "cell_type": "code",
   "execution_count": 218,
   "metadata": {},
   "outputs": [
    {
     "name": "stdout",
     "output_type": "stream",
     "text": [
      "Analytical:\n",
      "Mean wait time: 0.8\n",
      "Mean queue length: 3.2\n",
      "\n",
      "Simulation:\n",
      "Mean wait time: 0.75\n",
      "Mean queue length: 3.03\n"
     ]
    }
   ],
   "source": [
    "println(\"Analytical:\")\n",
    "println(\"Mean wait time: \",MM1.Wq)\n",
    "println(\"Mean queue length: \",MM1.Lq)\n",
    "println(\"\\nSimulation:\")\n",
    "println(\"Mean wait time: \",round(mean(wait_cum_MM1), digits=2))\n",
    "println(\"Mean queue length: \",round(mean(length_cum_MM1), digits=2))"
   ]
  },
  {
   "cell_type": "code",
   "execution_count": null,
   "metadata": {},
   "outputs": [],
   "source": []
  },
  {
   "cell_type": "code",
   "execution_count": null,
   "metadata": {},
   "outputs": [],
   "source": []
  },
  {
   "cell_type": "code",
   "execution_count": null,
   "metadata": {},
   "outputs": [],
   "source": [
    "n_lines = 1               # number of lines\n",
    "n_time = 8.0 *5*4          # 8h * 5d * 4.2w *12m\n",
    "n_arr_hour = 4.0          # arrivals per hour\n",
    "n_ser_hour = 2.5          # servie per hour\n",
    "n_servers = 2             # Number of servers\n",
    "n_packages_queue_overload = 10000   # When to switch queue line\n",
    "\n",
    "alfa = []\n",
    "bravo =  []\n",
    "for i in 1:1000\n",
    "    randomness = i\n",
    "\n",
    "    a,b,c = calculate_ia_and_s(n_lines, n_time, n_arr_hour, n_ser_hour, randomness) # arr | cum_arr | ser\n",
    "    my_server = ServerBase(n_servers, n_packages_queue_overload)\n",
    "    \n",
    "    Data_to_json(a, c, b)\n",
    "    Run_the_queue(my_server, n_time*1.5)\n",
    "    wait_time, queue_length = Calculate_key_parameters(Int(n_time*n_arr_hour))\n",
    "    push!(alfa, wait_time[1])\n",
    "    push!(bravo, queue_length[1])\n",
    "end"
   ]
  },
  {
   "cell_type": "code",
   "execution_count": 216,
   "metadata": {},
   "outputs": [
    {
     "name": "stdout",
     "output_type": "stream",
     "text": [
      "Analytical:\n",
      "Mean wait time: 0.9677419354838714\n",
      "Mean queue length: 3.8709677419354858\n",
      "\n",
      "Simulation:\n",
      "Mean wait time: 0.65\n",
      "Mean queue length: 2.58\n"
     ]
    }
   ],
   "source": [
    "println(\"Analytical:\")\n",
    "println(\"Mean wait time: \",MMS.Wq)\n",
    "println(\"Mean queue length: \",MMS.Lq)\n",
    "println(\"\\nSimulation:\")\n",
    "println(\"Mean wait time: \",round(mean(alfa), digits=2))\n",
    "println(\"Mean queue length: \",round(mean(bravo), digits=2))"
   ]
  }
 ],
 "metadata": {
  "kernelspec": {
   "display_name": "Julia 1.10.5",
   "language": "julia",
   "name": "julia-1.10"
  },
  "language_info": {
   "file_extension": ".jl",
   "mimetype": "application/julia",
   "name": "julia",
   "version": "1.10.5"
  }
 },
 "nbformat": 4,
 "nbformat_minor": 2
}
