{
 "cells": [
  {
   "cell_type": "markdown",
   "metadata": {},
   "source": [
    "<h1> Case Study Submission </h1>\n",
    "<h4> Course: 040669, Simulation 1</h4>\n",
    "<h4> Date: 25.11.2024 </h4>\n",
    "<h4> Name: Jakob Lindstrøm </h4>\n",
    "<h1> (Recommend) Online view: <a href=\"https://github.com/DataJakob/040669-Simulations-1-and-2/blob/main/Case_Study_Submission/deliverable.ipynb\"> Submission@github</a> </h1>\n",
    "<br>\n",
    "<h2> i) Solution description </h2>\n",
    "<p> I have solved case 2: Doctor's office. The answers to the subquestions of the case will be solved using programming languages. The answers will be written in this notebook, but some of the answers might be derived using the following repo: <a href=\"https://github.com/DataJakob/040669-Simulations-1-and-2/tree/main/RD_que_system\"> DataJakob@github</a>.</p>\n",
    "<br>\n",
    "\n",
    "<h2> i) Reproduce the solution </h2>\n",
    "<p> In IDE terminal -> git clone repo </p>\n",
    "<p> Navigate to -> deliverable.ipynbd </p>\n",
    "<p> Choose interpreter -> Julia  </p>\n",
    "<p> Press ->  Run all </p>\n",
    "<br>\n",
    "\n",
    "<h2> iii)  General Solution Comments </h2>\n",
    "<p> For this task I have choosen to use both an analytical and numerical approach to retrieve the key parameters for the first subtask.  </p>"
   ]
  },
  {
   "cell_type": "code",
   "execution_count": 9,
   "metadata": {},
   "outputs": [
    {
     "data": {
      "text/plain": [
       "Calculate_key_parameters (generic function with 1 method)"
      ]
     },
     "metadata": {},
     "output_type": "display_data"
    }
   ],
   "source": [
    "include(\"../Formulas/MM.jl\")\n",
    "include(\"../RD_que_system/src/00_arriver.jl\")\n",
    "include(\"../RD_que_system/src/01_server.jl\")\n",
    "include(\"../RD_que_system/src/02_run_queue.jl\")\n",
    "include(\"../RD_que_system/src/03_calculate_parameters.jl\")"
   ]
  },
  {
   "cell_type": "markdown",
   "metadata": {},
   "source": [
    "<h1> Task 2a </h1>\n",
    "<p> To solve this task I calculate the length and time in system using both an analytical and numerical approach. </p>\n",
    "<h3> \"Painless Patient\" </h3>\n",
    "<p> Monte Carlo simulation with 100 simulations for 100 working hours. </p>"
   ]
  },
  {
   "cell_type": "code",
   "execution_count": 10,
   "metadata": {},
   "outputs": [
    {
     "data": {
      "text/plain": [
       "queueKeyParameters(4.0, 5.0, 0, 0.8, 0.19999999999999996, 0.19999999999999996, 4.0, 3.2, 1.0, 0.8)"
      ]
     },
     "metadata": {},
     "output_type": "display_data"
    }
   ],
   "source": [
    "n_lines = 1               # number of lines\n",
    "n_time = 1000.0          # 8h * 5d * 4.2w *12m\n",
    "n_arr_hour = 4.0          # arrivals per hour\n",
    "n_ser_hour = 5.0          # servie per hour\n",
    "n_servers = 1             # Number of servers\n",
    "n_packages_queue_overload = 10000   # When to switch queue line\n",
    "\n",
    "wait_cum_MM1 = []\n",
    "length_cum_MM1 =  []\n",
    "for i in 1:1000\n",
    "    randomness = i\n",
    "\n",
    "    a,b,c = calculate_ia_and_s(n_lines, n_time, n_arr_hour, n_ser_hour, randomness) # arr | cum_arr | ser\n",
    "    my_server = ServerBase(n_servers, n_packages_queue_overload)\n",
    "    \n",
    "    Data_to_json(a, c, b)\n",
    "    Run_the_queue(my_server, 100000.0)\n",
    "    wait_time, queue_length = Calculate_key_parameters(Int(n_time*n_arr_hour))\n",
    "    push!(wait_cum_MM1, wait_time[1])\n",
    "    push!(length_cum_MM1, queue_length[1])\n",
    "end\n",
    "\n",
    "\n",
    "MM1 = queueKeyParameters(n_arr_hour, n_ser_hour, 0)\n",
    "MM1 = calcuclate_MM1(MM1)"
   ]
  },
  {
   "cell_type": "code",
   "execution_count": 11,
   "metadata": {},
   "outputs": [
    {
     "name": "stdout",
     "output_type": "stream",
     "text": [
      "Average time in system for MM1: 1.0\n",
      "Average length in system for MM1: 4.0\n",
      "\n",
      "\tCompare parameters for Lq and Wq using analytical and simulation approach\n",
      "Analytical:\n",
      "Mean wait time: 0.8\n",
      "Mean queue length: 3.2\n",
      "\n",
      "Simulation:\n",
      "Mean wait time: 0.8\n",
      "Mean queue length: 3.2\n"
     ]
    }
   ],
   "source": [
    "println(\"Average time in system for MM1: \", MM1.W)\n",
    "println(\"Average length in system for MM1: \", MM1.L)\n",
    "println(\"\\n\\tCompare parameters for Lq and Wq using analytical and simulation approach\")\n",
    "println(\"Analytical:\")\n",
    "println(\"Mean wait time: \",MM1.Wq)\n",
    "println(\"Mean queue length: \",MM1.Lq)\n",
    "println(\"\\nSimulation:\")\n",
    "println(\"Mean wait time: \",round(mean(wait_cum_MM1), digits=2))\n",
    "println(\"Mean queue length: \",round(mean(length_cum_MM1), digits=2))"
   ]
  },
  {
   "cell_type": "markdown",
   "metadata": {},
   "source": [
    "<h3> \"Healthy in No Time\" </h3>\n",
    "<p> Monte Carlo simulation with 100 simulations for 100 working hours. </p>"
   ]
  },
  {
   "cell_type": "code",
   "execution_count": 12,
   "metadata": {},
   "outputs": [
    {
     "data": {
      "text/plain": [
       "queueKeyParameters(4.0, 2.5, 0, 0.8, 0.11111111111111109, 0.11111111111111109, 4.444444444444446, 2.844444444444446, 1.1111111111111116, 0.7111111111111115)"
      ]
     },
     "metadata": {},
     "output_type": "display_data"
    }
   ],
   "source": [
    "n_lines = 1               # number of lines\n",
    "n_time = 1000.0          # 8h * 5d * 4.2w *12m\n",
    "n_arr_hour = 4.0          # arrivals per hour\n",
    "n_ser_hour = 2.5          # servie per hour\n",
    "n_servers = 2             # Number of servers\n",
    "n_packages_queue_overload = 1   # When to switch queue line\n",
    "\n",
    "wait_cum_MMS = []\n",
    "length_cum_MMS =  []\n",
    "for i in 1:1000\n",
    "    randomness = i\n",
    "\n",
    "    a,b,c = calculate_ia_and_s(n_lines, n_time, n_arr_hour, n_ser_hour, randomness) # arr | cum_arr | ser\n",
    "    my_server = ServerBase(n_servers, n_packages_queue_overload)\n",
    "    \n",
    "    Data_to_json(a, c, b)\n",
    "    Run_the_queue(my_server, 100000.0)\n",
    "    wait_time, queue_length = Calculate_key_parameters(Int(n_time*n_arr_hour))\n",
    "    push!(wait_cum_MMS, wait_time[1])\n",
    "    push!(length_cum_MMS, queue_length[1])\n",
    "end\n",
    "\n",
    "\n",
    "MMS = queueKeyParameters(n_arr_hour, n_ser_hour, 0)\n",
    "MMS = calculate_MMS(MMS, n_servers)"
   ]
  },
  {
   "cell_type": "code",
   "execution_count": 13,
   "metadata": {},
   "outputs": [
    {
     "name": "stdout",
     "output_type": "stream",
     "text": [
      "Average time in system for MMS: 1.11\n",
      "Average length in system for MMS: 4.44\n",
      "\n",
      "\tCompare parameters for Lq and Wq using analytical and simulation approach\n",
      "Analytical:\n",
      "Mean wait time: 0.71\n",
      "Mean queue length: 2.84\n",
      "\n",
      "Simulation:\n",
      "Mean wait time: 0.68\n",
      "Mean queue length: 2.71\n"
     ]
    }
   ],
   "source": [
    "println(\"Average time in system for MMS: \", round(MMS.W,digits=2))\n",
    "println(\"Average length in system for MMS: \", round(MMS.L, digits=2))\n",
    "println(\"\\n\\tCompare parameters for Lq and Wq using analytical and simulation approach\")\n",
    "println(\"Analytical:\")\n",
    "println(\"Mean wait time: \",round(MMS.Wq,digits=2))\n",
    "println(\"Mean queue length: \",round(MMS.Lq,digits=2))\n",
    "println(\"\\nSimulation:\")\n",
    "println(\"Mean wait time: \",round(mean(wait_cum_MMS), digits=2))\n",
    "println(\"Mean queue length: \",round(mean(length_cum_MMS), digits=2))"
   ]
  },
  {
   "cell_type": "markdown",
   "metadata": {},
   "source": [
    "<b> Comments: </b>\n",
    "<p> The values for Lq and Wq for both alternatives calculated with both the analytical and numerical approach are close. When performing Monte Carlo with more simulations and longer times, then the values converges to the solution of the analytical methods. \n",
    "<p> Both of the systems can handle a maximum of an average 5 people per hour. However, the systems have different setups and therefore different performance.  The MM2 system that can handle two customers simultaneously and has a higher queue lengths and waiting times in the system compared to the MM1 system. </p>\n",
    "\n",
    "<p> I believe this difference is a result of more served time in the queue system. The servers for the MM2 are twice as slow compared to the MM1 server, but there are twice as many servers in contrast. </p>\n",
    "<br>\n",
    "\n",
    "<h2> Task 2b </h2>\n",
    "<p> In order to make the recommendation for Caroline's new administrative system I use the cost and the key parameters from the respective queues. The cost for the MM1 system is 14.8, and the cost for the MM2 system is 13.2.</p>\n",
    "<p> I would recommend for Caroline to choose the alternative \"Healthy in No Time\"; the MM2 system. The reason for this is that the system has lower costs per hour, and the average length and average waiting time in the system is bigger than the other system. The recommendation is based on waiting time and queue lenght in system and the hourly costs of the systems. </p>"
   ]
  },
  {
   "cell_type": "markdown",
   "metadata": {},
   "source": [
    "<h2> Task 2c - i </h2>\n",
    "<p> Given the new information about the fine issued from the health insurance of the city, I need to calculate the costs for having patitents in line. </p>\n",
    "<p> In order to solve this task I would calculate the amount of minutes each customer must wait during an hour multiply that with the average number of customers in a line and then multiplied that with the costs of having customers in line. "
   ]
  },
  {
   "cell_type": "code",
   "execution_count": 14,
   "metadata": {},
   "outputs": [
    {
     "name": "stdout",
     "output_type": "stream",
     "text": [
      "Cost for MM2: 432.2 per hour.\n"
     ]
    }
   ],
   "source": [
    "println(\"Cost for MM2: \",round(MMS.Wq*60*MMS.Lq*3.45)+ 13.2, \" per hour.\")"
   ]
  },
  {
   "cell_type": "markdown",
   "metadata": {},
   "source": [
    "<p> The hourly cost of the new adminsitrative system, given the administrative cost and the fines are 419+13.2 = 432.2. </p>\n",
    "<br>\n",
    "<h3> 2c - ii, Alternative recommendation </h3>\n",
    "<p> Based on these results I would do the calculations for the second alternative and might reevaluate my  recommendation. Another recommendation I could propose to Caroline is to implement a finite queue. This would probably reduce her probability of having max a full queue at all times, but it would probably significantly lower her costs for having customers in queue. </p>"
   ]
  },
  {
   "cell_type": "markdown",
   "metadata": {},
   "source": [
    "<p> For comparison I also calculate the costs of utilizing the MM1 system </p>"
   ]
  },
  {
   "cell_type": "code",
   "execution_count": 15,
   "metadata": {},
   "outputs": [
    {
     "name": "stdout",
     "output_type": "stream",
     "text": [
      "Cost for MM1: 544.8\n"
     ]
    }
   ],
   "source": [
    "println(\"Cost for MM1: \",round(MM1.Wq*60*MM1.Lq*3.45)+14.8)"
   ]
  }
 ],
 "metadata": {
  "kernelspec": {
   "display_name": "Julia 1.10.5",
   "language": "julia",
   "name": "julia-1.10"
  },
  "language_info": {
   "file_extension": ".jl",
   "mimetype": "application/julia",
   "name": "julia",
   "version": "1.10.5"
  }
 },
 "nbformat": 4,
 "nbformat_minor": 2
}
