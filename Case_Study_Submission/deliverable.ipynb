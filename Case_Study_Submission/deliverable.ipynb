{
 "cells": [
  {
   "cell_type": "markdown",
   "metadata": {},
   "source": [
    "<h1> Case Study Submission </h1>\n",
    "<h4> Course: 040669, Simulation 1</h4>\n",
    "<h4> Date: 25.11.2024 </h4>\n",
    "<h4> Name: Jakob Lindstrøm </h4>\n",
    "<br>\n",
    "<h2> Solution description </h2>\n",
    "<p> I have solved case 2: Doctor's office. The answers to the subquestions of the case will be solved using programming languages. The answers will be written in this notebook, but some of the answers might be derived using the following sub-repo: <a href=\"https://github.com/DataJakob/040669-Simulations-1-and-2/tree/main/RD_que_system\"> DataJakob@github</a></p>"
   ]
  },
  {
   "cell_type": "markdown",
   "metadata": {
    "vscode": {
     "languageId": "plaintext"
    }
   },
   "source": [
    "<h2> Task 2a </h2>"
   ]
  },
  {
   "cell_type": "code",
   "execution_count": 1,
   "metadata": {},
   "outputs": [],
   "source": [
    "n_pck_alt1 = 2\n",
    "service_time_alt1 = 24\n",
    "hourly_cost_alt1 = 14.8\n",
    "pck_per_hour_alt1 = 4\n",
    "\n",
    "n_pck_alt2 = 2\n",
    "service_time_alt2 = 24\n",
    "hourly_cost_alt2 = 14.8\n",
    "pck_per_hour_alt2 = 4\n",
    "print()"
   ]
  },
  {
   "cell_type": "code",
   "execution_count": 2,
   "metadata": {},
   "outputs": [],
   "source": [
    "lambda_alt2 = pck_per_hour_alt2/1\n",
    "mu_alt2 = (60/service_time_alt2)\n",
    "\n",
    "lambda_alt1 = pck_per_hour_alt1/1\n",
    "mu_alt1 = (60/service_time_alt1)*2\n",
    "p_alt1 =  lambda_alt1/(mu_alt1*2)\n",
    "\n",
    "L_alt2 = lambda_alt2/(mu_alt2-lambda_alt2)\n",
    "W_alt2 = 1/(mu_alt2-lambda_alt2)\n",
    "print()"
   ]
  },
  {
   "cell_type": "code",
   "execution_count": 10,
   "metadata": {},
   "outputs": [
    {
     "data": {
      "text/plain": [
       "L_MMS (generic function with 1 method)"
      ]
     },
     "metadata": {},
     "output_type": "display_data"
    }
   ],
   "source": [
    "function P0_MMS(lambda::Float64, mu::Float64, p::Float64, s::Int64)\n",
    "    first_sum =  0\n",
    "    for i in 1:s-1\n",
    "        println(i)\n",
    "        first_sum+=(p^(i-1))/factorial(i-1)\n",
    "    end\n",
    "    second_sum = (p^s)/factorial(s)\n",
    "    third_sum = (s*mu)/((s*mu)-lambda)\n",
    "    return (first_sum+second_sum*third_sum)^(-1)\n",
    "end\n",
    "\n",
    "function Lq_MMS(P0::Float64, lambda::Float64, \n",
    "    mu::Float64, p::Float64, s::Int64\n",
    "    )\n",
    "    over = ((lambda/mu)^s) * p\n",
    "    under = factorial(s) * (1-p)^2\n",
    "    return P0*over/under\n",
    "end\n",
    "\n",
    "function W_MMS(lambda, mu, Lq)\n",
    "    return Lq/lambda + 1/mu\n",
    "end\n",
    "\n",
    "function L_MMS(lambda, mu, Lq)\n",
    "    return Lq + lambda/mu\n",
    "end"
   ]
  },
  {
   "cell_type": "code",
   "execution_count": 4,
   "metadata": {},
   "outputs": [
    {
     "name": "stdout",
     "output_type": "stream",
     "text": [
      "1\n",
      "1.0\n"
     ]
    }
   ],
   "source": [
    "first_sum =  0\n",
    "for i in 1:2-1\n",
    "    println(i)\n",
    "    first_sum+=(p_alt1^(i-1))/factorial(i-1)\n",
    "end\n",
    "println(first_sum)"
   ]
  },
  {
   "cell_type": "code",
   "execution_count": null,
   "metadata": {},
   "outputs": [
    {
     "data": {
      "text/plain": [
       "alfa (generic function with 1 method)"
      ]
     },
     "metadata": {},
     "output_type": "display_data"
    }
   ],
   "source": [
    "function alfa(N, n, lambda, mu, s )\n",
    "    first_sum = 0\n",
    "    for i in 1:s-1\n",
    "        first_first = factorial(s)/(factorial(i-1)*(factorial(s-i-1)))\n",
    "        first_second = (lambda/mu)^n\n",
    "        first_sum+=first_first*first_second\n",
    "    end\n",
    "    for i in 1:s\n",
    "end"
   ]
  },
  {
   "cell_type": "code",
   "execution_count": 14,
   "metadata": {},
   "outputs": [
    {
     "name": "stdout",
     "output_type": "stream",
     "text": [
      "1\n",
      "0.3137254901960785"
     ]
    }
   ],
   "source": [
    "P0_alt1 = P0_MMS(lambda_alt1,mu_alt1, p_alt1, 2)\n",
    "Lq_alt1 = Lq_MMS(P0_alt1, lambda_alt1, mu_alt1, p_alt1, 2)\n",
    "W_alt1 = W_MMS(lambda_alt1, mu_alt1, Lq_alt1)\n",
    "L_alt1 = L_MMS(lambda_alt1, mu_alt1, Lq_alt1)\n",
    "print(Lq_alt1)"
   ]
  },
  {
   "cell_type": "code",
   "execution_count": 6,
   "metadata": {},
   "outputs": [
    {
     "ename": "UndefVarError",
     "evalue": "UndefVarError: `Lq_alt1` not defined",
     "output_type": "error",
     "traceback": [
      "UndefVarError: `Lq_alt1` not defined\n"
     ]
    }
   ],
   "source": [
    "Lq_alt1"
   ]
  },
  {
   "cell_type": "code",
   "execution_count": 7,
   "metadata": {},
   "outputs": [
    {
     "ename": "UndefVarError",
     "evalue": "UndefVarError: `L_alt1` not defined",
     "output_type": "error",
     "traceback": [
      "UndefVarError: `L_alt1` not defined\n",
      "\n",
      "Stacktrace:\n",
      " [1] top-level scope\n",
      "   @ c:\\Users\\Jakob\\OneDrive\\Dokumenter\\master\\Simulation\\040669-Simulations-1-and-2\\Case_Study_Submission\\jl_notebook_cell_df34fa98e69747e1a8f8a730347b8e2f_X10sZmlsZQ==.jl:1"
     ]
    }
   ],
   "source": [
    "println(\"L for alternative 2 is: \", L_alt1)\n",
    "println(\"W for alternative 2 is: \", W_alt1)"
   ]
  },
  {
   "cell_type": "code",
   "execution_count": 8,
   "metadata": {},
   "outputs": [
    {
     "name": "stdout",
     "output_type": "stream",
     "text": [
      "L for alternative 2 is: -2.6666666666666665\n",
      "W for alternative 2 is: -0.6666666666666666\n"
     ]
    }
   ],
   "source": [
    "println(\"L for alternative 2 is: \", L_alt2)\n",
    "println(\"W for alternative 2 is: \", W_alt2)"
   ]
  },
  {
   "cell_type": "markdown",
   "metadata": {},
   "source": [
    "<h2> Task 2b </h2>\n",
    "<p>Based on the calculations from task 2a I would recommend Carloina to go for the second alternative. The reason for this is that the average customers in the system is less and the average waiting time is also less. This means that Caroline could have a smaller waiting room, and that the customers have to spend less time in queue.</p>"
   ]
  },
  {
   "cell_type": "markdown",
   "metadata": {},
   "source": [
    "<h2> Task 2c </h2>"
   ]
  },
  {
   "cell_type": "code",
   "execution_count": 9,
   "metadata": {},
   "outputs": [],
   "source": []
  }
 ],
 "metadata": {
  "kernelspec": {
   "display_name": "Julia 1.10.5",
   "language": "julia",
   "name": "julia-1.10"
  },
  "language_info": {
   "file_extension": ".jl",
   "mimetype": "application/julia",
   "name": "julia",
   "version": "1.10.5"
  }
 },
 "nbformat": 4,
 "nbformat_minor": 2
}
